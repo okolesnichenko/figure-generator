{
 "cells": [
  {
   "cell_type": "code",
   "execution_count": 1,
   "metadata": {},
   "outputs": [],
   "source": [
    "import tkinter as tk\n",
    "import numpy as np\n",
    "from tkinter import *\n",
    "from random import * "
   ]
  },
  {
   "cell_type": "code",
   "execution_count": null,
   "metadata": {},
   "outputs": [],
   "source": [
    "width = 600\n",
    "height = 600\n",
    "step = 20\n",
    "count = 1"
   ]
  },
  {
   "cell_type": "code",
   "execution_count": 78,
   "metadata": {},
   "outputs": [],
   "source": [
    "root = Tk()\n",
    "canvas = Canvas(root, width = width, height = height, bg='white')\n",
    "canvas.pack()\n",
    "rnd = np.random.RandomState(5)\n",
    "root.configure(background='white')\n",
    "steps = ([-step, +step])\n",
    "x = rnd.randint(1,600)\n",
    "y = rnd.randint(1,600)"
   ]
  },
  {
   "cell_type": "code",
   "execution_count": 80,
   "metadata": {},
   "outputs": [],
   "source": [
    "while(count != 300):\n",
    "    if ((x > 0)&(x<width)&(y > 0)&(y<height)):\n",
    "        canvas.create_rectangle(x, y, x+step,y+step, fill = \"#000000\")\n",
    "    root.update()\n",
    "    if(count%2 == 1):\n",
    "        x += choice(steps)\n",
    "    else:\n",
    "        y += choice(steps)\n",
    "    count += 1\n",
    "root.mainloop() "
   ]
  }
 ],
 "metadata": {
  "kernelspec": {
   "display_name": "Python 3",
   "language": "python",
   "name": "python3"
  },
  "language_info": {
   "codemirror_mode": {
    "name": "ipython",
    "version": 3
   },
   "file_extension": ".py",
   "mimetype": "text/x-python",
   "name": "python",
   "nbconvert_exporter": "python",
   "pygments_lexer": "ipython3",
   "version": "3.5.5"
  }
 },
 "nbformat": 4,
 "nbformat_minor": 2
}
